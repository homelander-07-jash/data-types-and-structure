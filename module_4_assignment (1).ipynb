{
  "nbformat": 4,
  "nbformat_minor": 0,
  "metadata": {
    "colab": {
      "provenance": []
    },
    "kernelspec": {
      "name": "python3",
      "display_name": "Python 3"
    },
    "language_info": {
      "name": "python"
    }
  },
  "cells": [
    {
      "cell_type": "markdown",
      "source": [
        "#PRACTICAL QUESTIONS\n",
        "1. What are data structures,and why are they important?\n",
        "- Data structures are ways of organizing and storing data in a computer so that it can be accessed and modified efficiently. They define the layout or format in which data is arranged in memory, allowing programmers to manage and work with large amounts of data effectively.\n",
        "\n",
        "Common Types of Data Structures:\n",
        "Arrays: Store items at contiguous memory locations.\n",
        "\n",
        "Linked Lists: Each element points to the next, forming a chain.\n",
        "\n",
        "Stacks: Last In, First Out (LIFO) structure.\n",
        "\n",
        "Queues: First In, First Out (FIFO) structure.\n",
        "\n",
        "Trees: Hierarchical structure (like a family tree).\n",
        "\n",
        "Graphs: Nodes connected by edges.\n",
        "\n",
        "Hash Tables (or Hash Maps): Store key-value pairs for fast lookups.\n",
        "\n",
        "Why Data Structures Are Important:\n",
        "\n",
        "Efficiency: Choosing the right data structure can greatly improve the performance of an algorithm.\n",
        "\n",
        "Data Management: Helps store and organize data in a logical way.\n",
        "\n",
        "Code Reusability: Many data structures are standardized and reusable.\n",
        "\n",
        "Problem Solving: Many programming problems map directly to specific data structures.\n",
        "\n",
        "Scalability: Good data structures help software scale well with more data or users.\n",
        "\n",
        "In short, understanding data structures is key to writing efficient, clean, and scalable code.\n",
        "2. Explain the difference between mutable and immutable data types with examples\n",
        "- The key difference lies in whether or not the object’s state (its content) can be changed after it is created.\n",
        "\n",
        " Mutable Data Types\n",
        "\n",
        " Definition: These can be changed after creation.\n",
        "\n",
        "Examples in Python:\n",
        "\n",
        ".List\n",
        "\n",
        ".Dictionary\n",
        "\n",
        ".Set\n",
        "\n",
        "The key difference lies in whether or not the object’s state (its content) can be changed after it is created.\n",
        "\n",
        "Mutable Data Types\n",
        "\n",
        "Definition: These can be changed after creation.\n",
        "\n",
        "Examples in Python:\n",
        "\n",
        "List\n",
        "\n",
        "Dictionary\n",
        "\n",
        "Set\n",
        "\n",
        "3. What are the main differences between lists and tuples in python ?\n",
        "-\n",
        " Lists are mutable; you can change, add, or remove elements.\n",
        "\n",
        "Tuples are immutable; once created, their elements can't be changed.\n",
        "\n",
        "Lists use square brackets: [1, 2, 3]\n",
        "\n",
        "Tuples use parentheses: (1, 2, 3)\n",
        "\n",
        "Lists are generally used for dynamic data.\n",
        "\n",
        "Tuples are used for fixed or constant data.\n",
        "\n",
        "Lists have more built-in methods (like .append(), .remove()).\n",
        "\n",
        "Tuples have fewer methods, as they can't be modified.\n",
        "\n",
        "Lists take up more memory due to their flexibility.\n",
        "\n",
        "Tuples are more memory-efficient and slightly faster.\n",
        "\n",
        "Lists are not hashable, so they can’t be used as dictionary keys.\n",
        "\n",
        "Tuples can be hashable (if all elements are hashable).\n",
        "\n",
        "4. Describe how dictionaries store data.\n",
        "- A dictionary in Python stores data as a collection of key-value pairs. It’s an unordered, mutable, and indexed data structure.\n",
        "\n",
        " Internal Working:\n",
        "\n",
        "Python dictionaries use a hash table under the hood.\n",
        "\n",
        "Each key is passed through a hashing function (using Python’s built-in hash() function).\n",
        "\n",
        "The hash value determines where the key-value pair is stored in memory (in a “bucket” or slot).\n",
        "\n",
        "When you access a value using a key, Python re-hashes the key and quickly locates the corresponding value.\n",
        "\n",
        "5. Why might you use a set instead of a list in python ?\n",
        "-\n",
        " . No Duplicates:\n",
        "\n",
        "Sets automatically remove duplicate values.\n",
        "\n",
        "Use a set when you need unique items only.\n",
        "\n",
        ".Faster Lookups\n",
        "\n",
        "Sets are optimized for fast membership testing (using hashing).\n",
        "\n",
        "Checking if an item exists is O(1) on average in a set vs O(n) in a list.\n",
        "python\n",
        "\n",
        "Copy\n",
        "\n",
        "Edit\n",
        "\n",
        ".Cleaner Code for Unique Data\n",
        "\n",
        "Using a set makes your intent clear: “I only care about distinct values.”\n",
        "6. What is a string in python,and how is it different from a list ?\n",
        "-\n",
        "A string in Python is a sequence of characters enclosed in quotes.\n",
        "You can use single ('), double (\"), or triple quotes (''' / \"\"\") for multi-line strings.\n",
        "\n",
        ". Difference:\n",
        " .A sequence of characters\n",
        " .Immutable (cannot change)\n",
        " .Quoted text\n",
        " .Always characters\n",
        " .Text manipulation\n",
        "\n",
        " 7. How do tuples ensure data integrity in python ?\n",
        " - Tuples help maintain data integrity by being immutable, which means:\n",
        "\n",
        "Once a tuple is created, its values cannot be changed.\n",
        "\n",
        "No elements can be added, removed, or modified after creation.\n",
        "\n",
        "8. What a hash table, and how does it relate to dictionaries in python ?\n",
        "-\n",
        " A hash table is a data structure that stores data in key-value pairs.\n",
        "It uses a hash function to convert each key into a unique index (a hash), which determines where the value is stored in memory\n",
        "\n",
        ". Related to dictionaries in python\n",
        "\n",
        "Python’s dict (dictionary) is implemented using a hash table behind the scenes.\n",
        "\n",
        "Here's how it works:\n",
        ".When you create a dictionary:\n",
        "\n",
        ".Python uses the hash() function on the key \"name\" to generate a number (the hash).\n",
        "\n",
        ".That hash determines where in memory the value \"Alice\" is stored.\n",
        "9.  Can lists contain different data typess in pythons?\n",
        "- Yes!\n",
        "\n",
        "Lists in Python can contain different data types in a single list. Python lists are heterogeneous, meaning they can store a mix of values.\n",
        "\n",
        "10. Explain why strings are immutable  in python\n",
        "- In Python, strings are immutable, meaning once a string is created, it cannot be changed. Any operation that seems to \"modify\" a string actually creates a new string.\n",
        "\n",
        "Reasons Why Strings Are Immutable:\n",
        "\n",
        "Memory Efficiency\n",
        "\n",
        "Hashability\n",
        "\n",
        "Thread-Safety\n",
        "\n",
        "Predictability\n",
        "\n",
        "11. What are advantages do dictionaries offer over lists for certain tasks ?\n",
        "- Dictionaries (dict) and lists (list) are both powerful, but dictionaries offer several key advantages for certain types of tasks—especially when dealing with key-value data.\n",
        "\n",
        " 1. Fast Lookups by Key\n",
        " 2. Clear Key-Value Mapping\n",
        " 3. No Need to Remember Indexes\n",
        "\n",
        "12. Describe a scenario where using a tuple would be preferable over a list .\n",
        "- Scenario: Storing GPS Coordinates (Latitude, Longitude)\n",
        "Why a Tuple Is Better Here:\n",
        "\n",
        "    1. Data Should Not Change\n",
        "    2. Performance\n",
        "    3.  Semantic Meaning\n",
        "\n",
        "13. How do sets handle duplicate values in python?\n",
        "- In Python, sets automatically remove duplicate values.\n",
        "\n",
        "\n",
        "Key Behavior:\n",
        "\n",
        " 1. A set only stores unique elements.\n",
        "\n",
        " 2. If you add duplicates, only one copy is kept.\n",
        "\n",
        "\n",
        " 14. How does the \"in\" keyword work differently for lists and dictionaries?\n",
        " -\n",
        "  \n",
        "  . In a List:\n",
        "\n",
        "  Checks for Values\n",
        "\n",
        "The in keyword checks if a value exists anywhere in the list\n",
        "\n",
        " In a Dictionary: Checks for Keys\n",
        "\n",
        "The in keyword checks if a key exists in the dictionary — not the values.\n",
        "\n",
        "15. Can you modify the elements of a tuple ? Explain why  or why not\n",
        "-\n",
        "  No, You Cannot Modify the Elements of a Tuple in Python\n",
        "\n",
        "  - Why?\n",
        "\n",
        "   Because tuples are immutable, meaning once created, their contents cannot be changed.\n",
        "\n",
        "   - Why This Is Useful:\n",
        "\n",
        "     Prevents accidental changes to critical data\n",
        "\n",
        "     Ensures consistent behavior in programs\n",
        "\n",
        "16. What is a nested dictionary,and give an example of its use case ?\n",
        "-\n",
        "  A nested dictionary is a dictionary inside another dictionary.\n",
        "This lets you organize complex, structured data in layers—like a hierarchy.\n",
        "\n",
        " EXAMPLE :  library = {\n",
        "    \"Fiction\": {\n",
        "        \"Book1\": {\"title\": \"1984\", \"author\": \"George Orwell\", \"year\": 1949},\n",
        "        \"Book2\": {\"title\": \"Brave New World\", \"author\": \"Aldous Huxley\", \"year\": 1932}\n",
        "    },\n",
        "    \"Science\": {\n",
        "        \"Book1\": {\"title\": \"A Brief History of Time\", \"author\": \"Stephen Hawking\", \"year\": 1988},\n",
        "        \"Book2\": {\"title\": \"The Selfish Gene\", \"author\": \"Richard Dawkins\", \"year\": 1976}\n",
        "    }\n",
        "}\n",
        "\n",
        "\n",
        "17. Describe the time complexity of accessing elements in a dictionary\n",
        "-\n",
        "  In Python, accessing an element in a dictionary by its key is very fast.\n",
        "\n",
        "- Average Case:\n",
        "\n",
        "Time Complexity: O(1) (constant time)\n",
        "\n",
        "- Why?\n",
        "\n",
        "Python dictionaries use a hash table under the hood. When you use a key, Python hashes it to find the exact location of the value.\n",
        "\n",
        "\n",
        "- Worst Case:\n",
        "\n",
        "Time Complexity: O(n)\n",
        "\n",
        "- When?\n",
        "\n",
        "In rare cases like hash collisions, where multiple keys hash to the same slot, Python may need to search through a chain of values.\n",
        "\n",
        "\n",
        "18. In what situations  are list preferred over dictionaries\n",
        "-\n",
        " 1. Order Matters :\n",
        "\n",
        " Lists maintain the order of elements (since Python 3.7+, so do dictionaries, but lists are still more natural for ordered sequences).\n",
        "\n",
        " 2. You Only Need Values :\n",
        "\n",
        "Lists are great when you don’t need a key-value structure — just a collection of items.\n",
        "\n",
        "\n",
        "\n",
        " 3. Indexing by Position:\n",
        "\n",
        " If you want to access items by index (e.g., the 3rd item), use a list.\n",
        "\n",
        "\n",
        " 4. Data Has No Unique Identifier\n",
        "\n",
        " If your data doesn’t need to be labeled (e.g., names, numbers, etc.), a list is simpler.\n",
        "\n",
        "\n",
        "19. Why are dictionaries considered unordered and how does that affect data retrieval ?\n",
        "-  dictionaries were unordered collections — this meant:\n",
        "\n",
        "The order in which you inserted items was not guaranteed to be preserved.\n",
        "\n",
        "This was because dictionaries were built purely for fast key-based access, not ordered traversal.\n",
        "\n",
        " - How This Affects Data Retrieval:\n",
        "   1. Fast Lookup (O(1))\n",
        "   2. No Indexing by Position\n",
        "   3. Unpredictable Order in Older Versions\n",
        "\n",
        "\n",
        "20. Explain the difference between a list and a dictionary in terms of data retrieval.\n",
        "-\n",
        "  \n",
        "  1. List (Ordered Collection)\n",
        "     Access by: Index (position)\n",
        "\n",
        "      Syntax: list[index]\n",
        "\n",
        "     Time Complexity: O(1) (constant time)\n",
        "\n",
        "  2. Dictionary (Key-Value Collection)\n",
        "     Access by: Key (label)\n",
        "\n",
        "     Syntax: dict[key]\n",
        "\n",
        "     Time Complexity: O(1) (constant time, on average)\n",
        "\n",
        "     - Lists:\n",
        "\n",
        "     1. By index\n",
        "     2. Fast (O(1))\n",
        "     3. No — just values\n",
        "\n",
        "     - Dictionary :\n",
        "\n",
        "     1.\tBy key\n",
        "     2. Fast (O(1))\n",
        "     3. Yes — keys mapped to values"
      ],
      "metadata": {
        "id": "Dxu_h5lpPQsm"
      }
    },
    {
      "cell_type": "code",
      "source": [
        " #1. Write a code to create a string with your name and print it\n",
        "\n",
        " # Create a string with my name\n",
        "my_name = \"Jash\"\n",
        "\n",
        "# Print the string\n",
        "print(my_name)\n"
      ],
      "metadata": {
        "colab": {
          "base_uri": "https://localhost:8080/"
        },
        "id": "GiOKOBYu4b8X",
        "outputId": "4c956560-317d-47cf-cbd4-48c3989b418a"
      },
      "execution_count": null,
      "outputs": [
        {
          "output_type": "stream",
          "name": "stdout",
          "text": [
            "Jash\n"
          ]
        }
      ]
    },
    {
      "cell_type": "code",
      "source": [
        "#2. Write a code to find the length of the string \"Hello World\".\n",
        " # Define the string\n",
        "my_string = \"Hello World\"\n",
        "\n",
        "# Find the length of the string\n",
        "length_of_string = len(my_string)\n",
        "\n",
        "# Print the length\n",
        "print(length_of_string)"
      ],
      "metadata": {
        "colab": {
          "base_uri": "https://localhost:8080/"
        },
        "id": "EjExsMem5E5-",
        "outputId": "dd938fc1-7970-46b8-cea6-498ee58a6088"
      },
      "execution_count": null,
      "outputs": [
        {
          "output_type": "stream",
          "name": "stdout",
          "text": [
            "11\n"
          ]
        }
      ]
    },
    {
      "cell_type": "code",
      "source": [
        "#3.Write a code to slice the first 3 characters from the string \"Python Programming\"\n",
        "my_string = \"Python Programming\"\n",
        "\n",
        "# Slice the first 3 characters\n",
        "sliced_string = my_string[:3]\n",
        "\n",
        "# Print the sliced string\n",
        "print(sliced_string)"
      ],
      "metadata": {
        "colab": {
          "base_uri": "https://localhost:8080/"
        },
        "id": "yuMuSI6s5lPM",
        "outputId": "dbb9eb2c-effd-4607-f41a-64b3ade0607b"
      },
      "execution_count": null,
      "outputs": [
        {
          "output_type": "stream",
          "name": "stdout",
          "text": [
            "Pyt\n"
          ]
        }
      ]
    },
    {
      "cell_type": "code",
      "source": [
        "#4.Write a code to convert the string \"hello\" to uppercase\n",
        "# Define the string\n",
        "my_string = \"hello\"\n",
        "\n",
        "# Convert to uppercase\n",
        "upper_string = my_string.upper()\n",
        "\n",
        "# Print the result\n",
        "print(upper_string)"
      ],
      "metadata": {
        "colab": {
          "base_uri": "https://localhost:8080/"
        },
        "id": "QH9_rByM6Fab",
        "outputId": "c04bc151-efe8-4947-d72c-f63f8e08b2a5"
      },
      "execution_count": null,
      "outputs": [
        {
          "output_type": "stream",
          "name": "stdout",
          "text": [
            "HELLO\n"
          ]
        }
      ]
    },
    {
      "cell_type": "code",
      "source": [
        "#5.Write a code to replace the the word \"apple\" with \"orange\" in the string \"I like apple\"\n",
        "# Define the string\n",
        "my_string = \"I like apple\"\n",
        "\n",
        "# Replace \"apple\" with \"orange\"\n",
        "new_string = my_string.replace(\"apple\", \"orange\")\n",
        "\n",
        "# Print the result\n",
        "print(new_string)"
      ],
      "metadata": {
        "colab": {
          "base_uri": "https://localhost:8080/"
        },
        "id": "85WtVNp07oki",
        "outputId": "5b66b634-bc2e-4e4e-c2be-e10beaff2830"
      },
      "execution_count": null,
      "outputs": [
        {
          "output_type": "stream",
          "name": "stdout",
          "text": [
            "I like orange\n"
          ]
        }
      ]
    },
    {
      "cell_type": "code",
      "source": [
        "#6.Write a code to create a list with numbers 1 to 5 and print it.\n",
        "# Create a list with numbers 1 to 5\n",
        "numbers = [1, 2, 3, 4, 5]\n",
        "\n",
        "# Print the list\n",
        "print(numbers)"
      ],
      "metadata": {
        "colab": {
          "base_uri": "https://localhost:8080/"
        },
        "id": "o2D5e_cQ9DF0",
        "outputId": "ba6955f3-c834-4914-c733-d9a901651e79"
      },
      "execution_count": null,
      "outputs": [
        {
          "output_type": "stream",
          "name": "stdout",
          "text": [
            "[1, 2, 3, 4, 5]\n"
          ]
        }
      ]
    },
    {
      "cell_type": "code",
      "source": [
        "#7.Write a code to append the number 10 to the list [1,2,3,4]\n",
        "# Define the list\n",
        "my_list = [1, 2, 3, 4]\n",
        "\n",
        "# Append the number 10\n",
        "my_list.append(10)\n",
        "\n",
        "# Print the updated list\n",
        "print(my_list)\n"
      ],
      "metadata": {
        "colab": {
          "base_uri": "https://localhost:8080/"
        },
        "id": "Huyk_uut9mdb",
        "outputId": "6e79a69c-ccb8-4080-9340-88de8989d7cd"
      },
      "execution_count": null,
      "outputs": [
        {
          "output_type": "stream",
          "name": "stdout",
          "text": [
            "[1, 2, 3, 4, 10]\n"
          ]
        }
      ]
    },
    {
      "cell_type": "code",
      "source": [
        " #8.Write a code to remove the number 3 from the list [1,2,3,4,5]\n",
        " # Define the list\n",
        "my_list = [1, 2, 3, 4, 5]\n",
        "\n",
        "# Remove the number 3\n",
        "my_list.remove(3)\n",
        "\n",
        "# Print the updated list\n",
        "print(my_list)"
      ],
      "metadata": {
        "colab": {
          "base_uri": "https://localhost:8080/"
        },
        "id": "q6QtRaWm-QB4",
        "outputId": "ad4280ba-ea82-469f-e531-c21e7db9005f"
      },
      "execution_count": null,
      "outputs": [
        {
          "output_type": "stream",
          "name": "stdout",
          "text": [
            "[1, 2, 4, 5]\n"
          ]
        }
      ]
    },
    {
      "cell_type": "code",
      "source": [
        "#9. Write a code to access the second element in the list['a','b','c','d',]\n",
        "# Define the list\n",
        "my_list = ['a', 'b', 'c', 'd']\n",
        "\n",
        "# Access the second element (index 1)\n",
        "second_element = my_list[1]\n",
        "\n",
        "# Print the second element\n",
        "print(second_element)\n"
      ],
      "metadata": {
        "colab": {
          "base_uri": "https://localhost:8080/"
        },
        "id": "xsMRHyNo-P60",
        "outputId": "85f7ba52-e9f4-476b-ff67-0173ef07bb96"
      },
      "execution_count": null,
      "outputs": [
        {
          "output_type": "stream",
          "name": "stdout",
          "text": [
            "b\n"
          ]
        }
      ]
    },
    {
      "cell_type": "code",
      "source": [
        "#10.Write a code to reserve the list [10,20,30,40,50].\n",
        "# Define the list\n",
        "my_list = [10, 20, 30, 40, 50]\n",
        "\n",
        "# Reverse the list\n",
        "my_list.reverse()\n",
        "\n",
        "# Print the reversed list\n",
        "print(my_list)"
      ],
      "metadata": {
        "colab": {
          "base_uri": "https://localhost:8080/"
        },
        "id": "u9-OfuPU_j4S",
        "outputId": "17fbd82e-b723-4e53-a488-cfcb381f78f0"
      },
      "execution_count": null,
      "outputs": [
        {
          "output_type": "stream",
          "name": "stdout",
          "text": [
            "[50, 40, 30, 20, 10]\n"
          ]
        }
      ]
    },
    {
      "cell_type": "code",
      "source": [
        "#11. Write a code to create a tuple with the elements 100,200,300 and print it\n",
        "# Create a tuple with elements 100, 200, and 300\n",
        "my_tuple = (100, 200, 300)\n",
        "\n",
        "# Print the tuple\n",
        "print(my_tuple)"
      ],
      "metadata": {
        "id": "3U-R8jXDABqU",
        "colab": {
          "base_uri": "https://localhost:8080/"
        },
        "outputId": "29e50ff9-d6bf-46f3-c641-ac273ec2e03a"
      },
      "execution_count": 1,
      "outputs": [
        {
          "output_type": "stream",
          "name": "stdout",
          "text": [
            "(100, 200, 300)\n"
          ]
        }
      ]
    },
    {
      "cell_type": "code",
      "source": [
        "#12. Write a code to access the second to last elements of the tuple('red','green','blue','yellow',)\n",
        "# Define the tuple\n",
        "colors = ('red', 'green', 'blue', 'yellow')\n",
        "\n",
        "# Access the second to last element\n",
        "second_to_last = colors[-2]\n",
        "\n",
        "# Print the element\n",
        "print(second_to_last)\n"
      ],
      "metadata": {
        "id": "v_SrfNwnABfg",
        "colab": {
          "base_uri": "https://localhost:8080/"
        },
        "outputId": "b4e4de1f-47cf-41d0-a257-7fb6ba207dc6"
      },
      "execution_count": 2,
      "outputs": [
        {
          "output_type": "stream",
          "name": "stdout",
          "text": [
            "blue\n"
          ]
        }
      ]
    },
    {
      "cell_type": "code",
      "source": [
        "#13. Write a code to find minimum number in the tuple(10,25)\n",
        "# Define the tuple\n",
        "numbers = (10, 25)\n",
        "\n",
        "# Find the minimum number\n",
        "minimum = min(numbers)\n",
        "\n",
        "# Print the result\n",
        "print(minimum)\n"
      ],
      "metadata": {
        "id": "jJ2VIIJ-ABB4",
        "colab": {
          "base_uri": "https://localhost:8080/"
        },
        "outputId": "2d5514d0-fafc-47df-81db-9063665d0202"
      },
      "execution_count": 3,
      "outputs": [
        {
          "output_type": "stream",
          "name": "stdout",
          "text": [
            "10\n"
          ]
        }
      ]
    },
    {
      "cell_type": "code",
      "source": [
        "#14. Write a code to find the index of the element \"cat\" in the tuple('dog','cat','rabbit')\n",
        "# Define the tuple\n",
        "animals = ('dog', 'cat', 'rabbit')\n",
        "\n",
        "# Find the index of 'cat'\n",
        "index_of_cat = animals.index('cat')\n",
        "\n",
        "# Print the index\n",
        "print(index_of_cat)\n"
      ],
      "metadata": {
        "colab": {
          "base_uri": "https://localhost:8080/"
        },
        "id": "F3xVCXYV4Ao8",
        "outputId": "495e9158-aa39-4a8e-ea72-baafe1ce2493"
      },
      "execution_count": 4,
      "outputs": [
        {
          "output_type": "stream",
          "name": "stdout",
          "text": [
            "1\n"
          ]
        }
      ]
    },
    {
      "cell_type": "code",
      "source": [
        "#15. Write a code to create a tuple containing three different fruits and check if \"kiwi\" is in it\n",
        "# Create a tuple with three fruits\n",
        "fruits = ('apple', 'banana', 'orange')\n",
        "\n",
        "# Check if 'kiwi' is in the tuple\n",
        "if 'kiwi' in fruits:\n",
        "    print(\"Kiwi is in the tuple.\")\n",
        "else:\n",
        "    print(\"Kiwi is not in the tuple.\")"
      ],
      "metadata": {
        "colab": {
          "base_uri": "https://localhost:8080/"
        },
        "id": "Un5GjFIk4AOJ",
        "outputId": "c7f0ecba-35ca-4305-a300-5674bfc0ab24"
      },
      "execution_count": 5,
      "outputs": [
        {
          "output_type": "stream",
          "name": "stdout",
          "text": [
            "Kiwi is not in the tuple.\n"
          ]
        }
      ]
    },
    {
      "cell_type": "code",
      "source": [
        "#16.Write a code to create a set with the elements 'a','b','c' and print it\n",
        "# Create a set with elements 'a', 'b', and 'c'\n",
        "my_set = {'a', 'b', 'c'}\n",
        "\n",
        "# Print the set\n",
        "print(my_set)"
      ],
      "metadata": {
        "colab": {
          "base_uri": "https://localhost:8080/"
        },
        "id": "ePaBH98B57MH",
        "outputId": "29d74964-0864-48db-977a-93075a14beaa"
      },
      "execution_count": 6,
      "outputs": [
        {
          "output_type": "stream",
          "name": "stdout",
          "text": [
            "{'a', 'c', 'b'}\n"
          ]
        }
      ]
    },
    {
      "cell_type": "code",
      "source": [
        "#!7.Write a code to clear all elements from the set {1,2,3,4,5}.\n",
        "# Create the set\n",
        "my_set = {1, 2, 3, 4, 5}\n",
        "\n",
        "# Clear all elements from the set\n",
        "my_set.clear()\n",
        "\n",
        "# Print the set to confirm it's empty\n",
        "print(my_set)"
      ],
      "metadata": {
        "colab": {
          "base_uri": "https://localhost:8080/"
        },
        "id": "vJJ5wJfG57A_",
        "outputId": "bb75882b-1251-486b-8910-1fe85e30a1af"
      },
      "execution_count": 7,
      "outputs": [
        {
          "output_type": "stream",
          "name": "stdout",
          "text": [
            "set()\n"
          ]
        }
      ]
    },
    {
      "cell_type": "code",
      "source": [
        "#18. Write a code to remove the element 4 from the set{1,2,3,4}\n",
        "# Create the set\n",
        "my_set = {1, 2, 3, 4}\n",
        "\n",
        "# Remove the element 4\n",
        "my_set.remove(4)\n",
        "\n",
        "# Print the updated set\n",
        "print(my_set)"
      ],
      "metadata": {
        "colab": {
          "base_uri": "https://localhost:8080/"
        },
        "id": "hJeyQQPx5651",
        "outputId": "a5bcc0ba-c1cf-464f-ebd2-83e57f75b4da"
      },
      "execution_count": 8,
      "outputs": [
        {
          "output_type": "stream",
          "name": "stdout",
          "text": [
            "{1, 2, 3}\n"
          ]
        }
      ]
    },
    {
      "cell_type": "code",
      "source": [
        "#19.Write a code to find the union of two sets {1,2,3} and {3,4,5}\n",
        "# Define the two sets\n",
        "set1 = {1, 2, 3}\n",
        "set2 = {3, 4, 5}\n",
        "\n",
        "# Find the union of the two sets\n",
        "union_set = set1.union(set2)\n",
        "\n",
        "# Print the result\n",
        "print(union_set)\n"
      ],
      "metadata": {
        "colab": {
          "base_uri": "https://localhost:8080/"
        },
        "id": "jYwZf_Zy56zW",
        "outputId": "99114222-ebcc-487f-9b98-26fdf56d0368"
      },
      "execution_count": 9,
      "outputs": [
        {
          "output_type": "stream",
          "name": "stdout",
          "text": [
            "{1, 2, 3, 4, 5}\n"
          ]
        }
      ]
    },
    {
      "cell_type": "code",
      "source": [
        "#20. Write a code to find the intersection of two seats {1,2,3} and {2,3,4}\n",
        "#Define the two sets\n",
        "set1 = {1, 2, 3}\n",
        "set2 = {2, 3, 4}\n",
        "\n",
        "# Find the intersection of the two sets\n",
        "intersection_set = set1.intersection(set2)\n",
        "\n",
        "# Print the result\n",
        "print(intersection_set)"
      ],
      "metadata": {
        "colab": {
          "base_uri": "https://localhost:8080/"
        },
        "id": "SmGtBxWh56mw",
        "outputId": "ff804336-8b6e-487d-c1e3-2ff9393234cb"
      },
      "execution_count": 11,
      "outputs": [
        {
          "output_type": "stream",
          "name": "stdout",
          "text": [
            "{2, 3}\n"
          ]
        }
      ]
    },
    {
      "cell_type": "code",
      "source": [
        "#21.Write a code to create a dictionary with the keys \"name\",\"age\",and \"city\" and print it\n",
        " # Create the dictionary\n",
        "person = {\n",
        "    \"name\": \"Alice\",\n",
        "    \"age\": 30,\n",
        "    \"city\": \"New York\"\n",
        "}\n",
        "\n",
        "# Print the dictionary\n",
        "print(person)"
      ],
      "metadata": {
        "colab": {
          "base_uri": "https://localhost:8080/"
        },
        "id": "N-At2Cv29FTG",
        "outputId": "6f773f98-4ba3-4c1a-a6da-25516c95bd0c"
      },
      "execution_count": 12,
      "outputs": [
        {
          "output_type": "stream",
          "name": "stdout",
          "text": [
            "{'name': 'Alice', 'age': 30, 'city': 'New York'}\n"
          ]
        }
      ]
    },
    {
      "cell_type": "code",
      "source": [
        "#22.Write a code to add a new key value pair \"country\":\"USA\" to the dictionary{'name':'John','age':25}\n",
        "# Define the original dictionary\n",
        "person = {'name': 'John', 'age': 25}\n",
        "\n",
        "# Add the new key-value pair\n",
        "person['country'] = 'USA'\n",
        "\n",
        "# Print the updated dictionary\n",
        "print(person)\n"
      ],
      "metadata": {
        "colab": {
          "base_uri": "https://localhost:8080/"
        },
        "id": "sKmD6nC59FHp",
        "outputId": "d4d56c4b-e1c4-4d3d-83ab-dcb3d069e6fc"
      },
      "execution_count": 13,
      "outputs": [
        {
          "output_type": "stream",
          "name": "stdout",
          "text": [
            "{'name': 'John', 'age': 25, 'country': 'USA'}\n"
          ]
        }
      ]
    },
    {
      "cell_type": "code",
      "source": [
        "#23. Write a code to access the value associated with the key \"name\" in the dictionary {'name': 'Alice', 'age': 30}\n",
        "# Define the dictionary\n",
        "person = {'name': 'Alice', 'age': 30}\n",
        "\n",
        "# Access the value associated with the key \"name\"\n",
        "name_value = person['name']\n",
        "\n",
        "# Print the value\n",
        "print(name_value)"
      ],
      "metadata": {
        "colab": {
          "base_uri": "https://localhost:8080/"
        },
        "id": "sIY6GB4w9E9E",
        "outputId": "af8bf2d5-ffc9-4693-f037-7a421150d295"
      },
      "execution_count": 14,
      "outputs": [
        {
          "output_type": "stream",
          "name": "stdout",
          "text": [
            "Alice\n"
          ]
        }
      ]
    },
    {
      "cell_type": "code",
      "source": [
        "#24.Write a code to remove the key \"age\" from the dictionary {'name': 'Bob', 'age': 22, 'city': 'New York'}\n",
        "# Original dictionary\n",
        "person = {'name': 'Bob', 'age': 22, 'city': 'New York'}\n",
        "\n",
        "# Remove the key \"age\"\n",
        "person.pop('age', None)\n",
        "\n",
        "# Print the updated dictionary\n",
        "print(person)"
      ],
      "metadata": {
        "colab": {
          "base_uri": "https://localhost:8080/"
        },
        "id": "9QvtMoLw9Ew6",
        "outputId": "91de88dd-4ed9-49ce-a84c-d60fe051c5ca"
      },
      "execution_count": 15,
      "outputs": [
        {
          "output_type": "stream",
          "name": "stdout",
          "text": [
            "{'name': 'Bob', 'city': 'New York'}\n"
          ]
        }
      ]
    },
    {
      "cell_type": "code",
      "source": [
        "#25.Write a code to check if the key \"city\" exists in the dictionary {'name': 'Alice', 'city': 'Paris'}.\n",
        "# Original dictionary\n",
        "person = {'name': 'Alice', 'city': 'Paris'}\n",
        "\n",
        "# Check if the key \"city\" exists\n",
        "if 'city' in person:\n",
        "    print(\"The key 'city' exists in the dictionary.\")\n",
        "else:\n",
        "    print(\"The key 'city' does not exist in the dictionary.\")"
      ],
      "metadata": {
        "colab": {
          "base_uri": "https://localhost:8080/"
        },
        "id": "NTUYHEsc9EkS",
        "outputId": "41ac7b86-6bba-414c-ba5f-9fa098095f0a"
      },
      "execution_count": 16,
      "outputs": [
        {
          "output_type": "stream",
          "name": "stdout",
          "text": [
            "The key 'city' exists in the dictionary.\n"
          ]
        }
      ]
    },
    {
      "cell_type": "code",
      "source": [
        "#26.Write a code to create a list, a tuple, and a dictionary, and print them all\n",
        "# Creating a list\n",
        "my_list = [1, 2, 3, 4, 5]\n",
        "\n",
        "# Creating a tuple\n",
        "my_tuple = ('apple', 'banana', 'cherry')\n",
        "\n",
        "# Creating a dictionary\n",
        "my_dict = {'name': 'John', 'age': 30, 'city': 'New York'}\n",
        "\n",
        "# Printing all of them\n",
        "print(\"List:\", my_list)\n",
        "print(\"Tuple:\", my_tuple)\n",
        "print(\"Dictionary:\", my_dict)"
      ],
      "metadata": {
        "colab": {
          "base_uri": "https://localhost:8080/"
        },
        "id": "Kaf9PnxX9D5c",
        "outputId": "e1878da4-6c01-40f4-bed0-5ad5145a7924"
      },
      "execution_count": 18,
      "outputs": [
        {
          "output_type": "stream",
          "name": "stdout",
          "text": [
            "List: [1, 2, 3, 4, 5]\n",
            "Tuple: ('apple', 'banana', 'cherry')\n",
            "Dictionary: {'name': 'John', 'age': 30, 'city': 'New York'}\n"
          ]
        }
      ]
    },
    {
      "cell_type": "code",
      "source": [
        "#27. Write a code to create a list of 5 random numbers between 1 and 100, sort it in ascending order, and print the result.(replaced)\n",
        "import random\n",
        "\n",
        "# Create a list of 5 random numbers between 1 and 100\n",
        "random_numbers = [random.randint(1, 100) for _ in range(5)]\n",
        "\n",
        "# Sort the list in ascending order\n",
        "random_numbers.sort()\n",
        "\n",
        "# Print the sorted list\n",
        "print(\"Sorted list:\", random_numbers)\n"
      ],
      "metadata": {
        "colab": {
          "base_uri": "https://localhost:8080/"
        },
        "id": "-U4v5Aby9DuN",
        "outputId": "e525ac1a-142c-4d20-d54f-d5735a0f2bc2"
      },
      "execution_count": 23,
      "outputs": [
        {
          "output_type": "stream",
          "name": "stdout",
          "text": [
            "Sorted list: [24, 38, 49, 96, 97]\n"
          ]
        }
      ]
    },
    {
      "cell_type": "code",
      "source": [
        "#28.# Creating a list with strings\n",
        "my_list = ['apple', 'banana', 'cherry', 'date', 'elderberry']\n",
        "\n",
        "# Print the element at the third index\n",
        "print(\"Element at third index:\", my_list[3])"
      ],
      "metadata": {
        "colab": {
          "base_uri": "https://localhost:8080/"
        },
        "id": "u8miPa5B9Dj-",
        "outputId": "1ceb8798-a17b-4218-fbb6-b5898d55f50c"
      },
      "execution_count": 24,
      "outputs": [
        {
          "output_type": "stream",
          "name": "stdout",
          "text": [
            "Element at third index: date\n"
          ]
        }
      ]
    },
    {
      "cell_type": "code",
      "source": [
        "#29.Write a code to combine two dictionaries into one and print the result\n",
        "dict1 = {'name': 'Alice', 'age': 25}\n",
        "dict2 = {'city': 'Paris', 'country': 'France'}\n",
        "\n",
        "# Combine the dictionaries\n",
        "combined_dict = {**dict1, **dict2}\n",
        "\n",
        "# Print the result\n",
        "print(\"Combined dictionary:\", combined_dict)"
      ],
      "metadata": {
        "colab": {
          "base_uri": "https://localhost:8080/"
        },
        "id": "gDU_cjfC9DZT",
        "outputId": "9ff3f13e-7af7-4828-bfc0-9ac902f7f6b5"
      },
      "execution_count": 25,
      "outputs": [
        {
          "output_type": "stream",
          "name": "stdout",
          "text": [
            "Combined dictionary: {'name': 'Alice', 'age': 25, 'city': 'Paris', 'country': 'France'}\n"
          ]
        }
      ]
    },
    {
      "cell_type": "code",
      "source": [
        "#30.# List of strings\n",
        "my_list = ['apple', 'banana', 'cherry', 'apple', 'banana']\n",
        "\n",
        "# Convert the list into a set\n",
        "my_set = set(my_list)\n",
        "\n",
        "# Print the result\n",
        "print(\"Converted set:\", my_set)"
      ],
      "metadata": {
        "colab": {
          "base_uri": "https://localhost:8080/"
        },
        "id": "snxKo4xO9DPL",
        "outputId": "7aee1906-c819-4db4-cd02-e622577f4430"
      },
      "execution_count": 26,
      "outputs": [
        {
          "output_type": "stream",
          "name": "stdout",
          "text": [
            "Converted set: {'apple', 'cherry', 'banana'}\n"
          ]
        }
      ]
    }
  ]
}